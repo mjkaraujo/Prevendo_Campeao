{
  "nbformat": 4,
  "nbformat_minor": 0,
  "metadata": {
    "colab": {
      "provenance": [],
      "collapsed_sections": [],
      "toc_visible": true,
      "authorship_tag": "ABX9TyPcr6EhEBpOTqhcl1WM0S8M",
      "include_colab_link": true
    },
    "kernelspec": {
      "name": "python3",
      "display_name": "Python 3"
    },
    "language_info": {
      "name": "python"
    }
  },
  "cells": [
    {
      "cell_type": "markdown",
      "metadata": {
        "id": "view-in-github",
        "colab_type": "text"
      },
      "source": [
        "<a href=\"https://colab.research.google.com/github/mjkaraujo/Prevendo_Campeao/blob/master/Simulando_Final_da_Copa.ipynb\" target=\"_parent\"><img src=\"https://colab.research.google.com/assets/colab-badge.svg\" alt=\"Open In Colab\"/></a>"
      ]
    },
    {
      "cell_type": "markdown",
      "source": [
        "##1. Estrutura com os Grupos e Seleções, além de seus respectivos scores (Ranking FIFA)"
      ],
      "metadata": {
        "id": "yPK1GCOpRxaW"
      }
    },
    {
      "cell_type": "code",
      "execution_count": 6,
      "metadata": {
        "id": "KnRr4ldDG6XB",
        "colab": {
          "base_uri": "https://localhost:8080/",
          "height": 175
        },
        "outputId": "b9d168ea-6ad0-4f20-f100-0e5c4b524f85"
      },
      "outputs": [
        {
          "output_type": "execute_result",
          "data": {
            "text/plain": [
              "            A           B           C           D           E           F  \\\n",
              "0  CAT|1442.0  EUA|1635.0  ARG|1770.7  AUS|1483.7  ALE|1659.0  BEL|1821.9   \n",
              "1  EQU|1463.7  ING|1737.5  ARA|1435.7  DIN|1665.5  COS|1500.1  CAN|1473.8   \n",
              "2  HOL|1679.4  IRA|1558.6  MEX|1649.6  FRA|1764.9  ESP|1716.9  CRO|1632.2   \n",
              "3  SEN|1584.6  GAL|1582.1  POL|1546.2  TUN|1507.9  JAP|1554.7  MAR|1558.4   \n",
              "\n",
              "            G           H  \n",
              "0  BRA|1837.6  COR|1526.0  \n",
              "1  CAM|1485.0  GAN|1393.5  \n",
              "2  SUI|1621.4  POR|1678.7  \n",
              "3  SER|1549.5  URU|1641.0  "
            ],
            "text/html": [
              "\n",
              "  <div id=\"df-86a42046-cd50-4536-8537-247f8346cc82\">\n",
              "    <div class=\"colab-df-container\">\n",
              "      <div>\n",
              "<style scoped>\n",
              "    .dataframe tbody tr th:only-of-type {\n",
              "        vertical-align: middle;\n",
              "    }\n",
              "\n",
              "    .dataframe tbody tr th {\n",
              "        vertical-align: top;\n",
              "    }\n",
              "\n",
              "    .dataframe thead th {\n",
              "        text-align: right;\n",
              "    }\n",
              "</style>\n",
              "<table border=\"1\" class=\"dataframe\">\n",
              "  <thead>\n",
              "    <tr style=\"text-align: right;\">\n",
              "      <th></th>\n",
              "      <th>A</th>\n",
              "      <th>B</th>\n",
              "      <th>C</th>\n",
              "      <th>D</th>\n",
              "      <th>E</th>\n",
              "      <th>F</th>\n",
              "      <th>G</th>\n",
              "      <th>H</th>\n",
              "    </tr>\n",
              "  </thead>\n",
              "  <tbody>\n",
              "    <tr>\n",
              "      <th>0</th>\n",
              "      <td>CAT|1442.0</td>\n",
              "      <td>EUA|1635.0</td>\n",
              "      <td>ARG|1770.7</td>\n",
              "      <td>AUS|1483.7</td>\n",
              "      <td>ALE|1659.0</td>\n",
              "      <td>BEL|1821.9</td>\n",
              "      <td>BRA|1837.6</td>\n",
              "      <td>COR|1526.0</td>\n",
              "    </tr>\n",
              "    <tr>\n",
              "      <th>1</th>\n",
              "      <td>EQU|1463.7</td>\n",
              "      <td>ING|1737.5</td>\n",
              "      <td>ARA|1435.7</td>\n",
              "      <td>DIN|1665.5</td>\n",
              "      <td>COS|1500.1</td>\n",
              "      <td>CAN|1473.8</td>\n",
              "      <td>CAM|1485.0</td>\n",
              "      <td>GAN|1393.5</td>\n",
              "    </tr>\n",
              "    <tr>\n",
              "      <th>2</th>\n",
              "      <td>HOL|1679.4</td>\n",
              "      <td>IRA|1558.6</td>\n",
              "      <td>MEX|1649.6</td>\n",
              "      <td>FRA|1764.9</td>\n",
              "      <td>ESP|1716.9</td>\n",
              "      <td>CRO|1632.2</td>\n",
              "      <td>SUI|1621.4</td>\n",
              "      <td>POR|1678.7</td>\n",
              "    </tr>\n",
              "    <tr>\n",
              "      <th>3</th>\n",
              "      <td>SEN|1584.6</td>\n",
              "      <td>GAL|1582.1</td>\n",
              "      <td>POL|1546.2</td>\n",
              "      <td>TUN|1507.9</td>\n",
              "      <td>JAP|1554.7</td>\n",
              "      <td>MAR|1558.4</td>\n",
              "      <td>SER|1549.5</td>\n",
              "      <td>URU|1641.0</td>\n",
              "    </tr>\n",
              "  </tbody>\n",
              "</table>\n",
              "</div>\n",
              "      <button class=\"colab-df-convert\" onclick=\"convertToInteractive('df-86a42046-cd50-4536-8537-247f8346cc82')\"\n",
              "              title=\"Convert this dataframe to an interactive table.\"\n",
              "              style=\"display:none;\">\n",
              "        \n",
              "  <svg xmlns=\"http://www.w3.org/2000/svg\" height=\"24px\"viewBox=\"0 0 24 24\"\n",
              "       width=\"24px\">\n",
              "    <path d=\"M0 0h24v24H0V0z\" fill=\"none\"/>\n",
              "    <path d=\"M18.56 5.44l.94 2.06.94-2.06 2.06-.94-2.06-.94-.94-2.06-.94 2.06-2.06.94zm-11 1L8.5 8.5l.94-2.06 2.06-.94-2.06-.94L8.5 2.5l-.94 2.06-2.06.94zm10 10l.94 2.06.94-2.06 2.06-.94-2.06-.94-.94-2.06-.94 2.06-2.06.94z\"/><path d=\"M17.41 7.96l-1.37-1.37c-.4-.4-.92-.59-1.43-.59-.52 0-1.04.2-1.43.59L10.3 9.45l-7.72 7.72c-.78.78-.78 2.05 0 2.83L4 21.41c.39.39.9.59 1.41.59.51 0 1.02-.2 1.41-.59l7.78-7.78 2.81-2.81c.8-.78.8-2.07 0-2.86zM5.41 20L4 18.59l7.72-7.72 1.47 1.35L5.41 20z\"/>\n",
              "  </svg>\n",
              "      </button>\n",
              "      \n",
              "  <style>\n",
              "    .colab-df-container {\n",
              "      display:flex;\n",
              "      flex-wrap:wrap;\n",
              "      gap: 12px;\n",
              "    }\n",
              "\n",
              "    .colab-df-convert {\n",
              "      background-color: #E8F0FE;\n",
              "      border: none;\n",
              "      border-radius: 50%;\n",
              "      cursor: pointer;\n",
              "      display: none;\n",
              "      fill: #1967D2;\n",
              "      height: 32px;\n",
              "      padding: 0 0 0 0;\n",
              "      width: 32px;\n",
              "    }\n",
              "\n",
              "    .colab-df-convert:hover {\n",
              "      background-color: #E2EBFA;\n",
              "      box-shadow: 0px 1px 2px rgba(60, 64, 67, 0.3), 0px 1px 3px 1px rgba(60, 64, 67, 0.15);\n",
              "      fill: #174EA6;\n",
              "    }\n",
              "\n",
              "    [theme=dark] .colab-df-convert {\n",
              "      background-color: #3B4455;\n",
              "      fill: #D2E3FC;\n",
              "    }\n",
              "\n",
              "    [theme=dark] .colab-df-convert:hover {\n",
              "      background-color: #434B5C;\n",
              "      box-shadow: 0px 1px 3px 1px rgba(0, 0, 0, 0.15);\n",
              "      filter: drop-shadow(0px 1px 2px rgba(0, 0, 0, 0.3));\n",
              "      fill: #FFFFFF;\n",
              "    }\n",
              "  </style>\n",
              "\n",
              "      <script>\n",
              "        const buttonEl =\n",
              "          document.querySelector('#df-86a42046-cd50-4536-8537-247f8346cc82 button.colab-df-convert');\n",
              "        buttonEl.style.display =\n",
              "          google.colab.kernel.accessAllowed ? 'block' : 'none';\n",
              "\n",
              "        async function convertToInteractive(key) {\n",
              "          const element = document.querySelector('#df-86a42046-cd50-4536-8537-247f8346cc82');\n",
              "          const dataTable =\n",
              "            await google.colab.kernel.invokeFunction('convertToInteractive',\n",
              "                                                     [key], {});\n",
              "          if (!dataTable) return;\n",
              "\n",
              "          const docLinkHtml = 'Like what you see? Visit the ' +\n",
              "            '<a target=\"_blank\" href=https://colab.research.google.com/notebooks/data_table.ipynb>data table notebook</a>'\n",
              "            + ' to learn more about interactive tables.';\n",
              "          element.innerHTML = '';\n",
              "          dataTable['output_type'] = 'display_data';\n",
              "          await google.colab.output.renderOutput(dataTable, element);\n",
              "          const docLink = document.createElement('div');\n",
              "          docLink.innerHTML = docLinkHtml;\n",
              "          element.appendChild(docLink);\n",
              "        }\n",
              "      </script>\n",
              "    </div>\n",
              "  </div>\n",
              "  "
            ]
          },
          "metadata": {},
          "execution_count": 6
        }
      ],
      "source": [
        "import pandas as pd\n",
        "\n",
        "df = pd.read_csv('https://raw.githubusercontent.com/digitalinnovationone/live-coding-evitando-o-7x1-com-python-e-sql/main/data.csv')\n",
        "df.head()"
      ]
    },
    {
      "cell_type": "markdown",
      "source": [
        "\n",
        "\n",
        "##2. Classe que representa um time, com suas características e comportamentos:\n",
        "\n",
        "\n"
      ],
      "metadata": {
        "id": "4L9U4oVhRvib"
      }
    },
    {
      "cell_type": "code",
      "source": [
        "import random\n",
        "\n",
        "class Team:\n",
        "  BEST_SCORE = 1837.6 # Brasil (BRA)\n",
        "\n",
        "  # TODO: Definir um construtor com os atributos adequados (tendo em vista o conteúdo de uma célula do CSV)\n",
        "  def __init__(self, cellData):\n",
        "    teamData = cellData.split('|')\n",
        "    self.name = teamData[0]\n",
        "    self.score = float(teamData[1])\n",
        "\n",
        "  def motivate(self):\n",
        "    \"\"\" \n",
        "    A pior seleção da copa (GAN, segundo a FIFA) têm 1393.5 de score, o qual equivale a 75% do melhor score (BRA).\n",
        "    Sendo assim, para que a aleatoriedade não seja tão determinante, podemos definir um intervalo inicial próximo de 75.\n",
        "    \n",
        "    Por exemplo, GAN poderia ter valores entre 70~75 (aproximadamente). Por outro lado, BRA teria 70~100 (maior chance de vitória).\n",
        "    1837.6 (BRA) ----- 100\n",
        "    1393.5 (GAN) -----  X\n",
        "    \"\"\"\n",
        "    self.lastMotivation = random.uniform(70, (self.score * 100) / Team.BEST_SCORE)\n",
        "    return self.lastMotivation"
      ],
      "metadata": {
        "id": "1kceMGzeN6HS"
      },
      "execution_count": 7,
      "outputs": []
    },
    {
      "cell_type": "markdown",
      "source": [
        "##3. Simulando a Fase de Grupos:"
      ],
      "metadata": {
        "id": "ZoqokwRASJEz"
      }
    },
    {
      "cell_type": "code",
      "source": [
        "# Mapa em que a chave será a letra do grupo e o valor as seleções (que ordenaremos pelas \"melhores\").\n",
        "bestTeamsByGroup = {}\n",
        "# Percorre o dataframe (dados do CSV) para criar nossos objetos/seleções.\n",
        "for label, content in df.items():\n",
        "  # TODO: Instanciar as 4 seleções do grupo, com seus respectivos nomes e score.\n",
        "  team1 = Team(content[0])\n",
        "  team2 = Team(content[1])\n",
        "  team3 = Team(content[2])\n",
        "  team4 = Team(content[3])\n",
        "  # TODO: Simular os melhores do grupo com base na motivação de cada seleção. \n",
        "  # Calculada a partir do seu ranking FIFA aliado a uma pitada de aleatoriedade.\n",
        "  bestTeamsByGroup[label] = sorted([ team1, team2, team3, team4 ], key=Team.motivate, reverse=True)\n",
        "\n",
        "# TODO: Imprimir os grupos, ordenados pelas melhores seleções de cada (apenas 2 se classificam)\n",
        "for grupo, motivatedTeams in bestTeamsByGroup.items():\n",
        "  print(f'Grupo {grupo}: ', end=\"\")\n",
        "  for team in motivatedTeams:\n",
        "    print(f'{team.name} ({team.lastMotivation:.2f}) ', end=\"\")\n",
        "  print()"
      ],
      "metadata": {
        "id": "F7WuYO4HOILH",
        "colab": {
          "base_uri": "https://localhost:8080/"
        },
        "outputId": "c39631bb-9767-4e90-ebfd-345ccfd593ff"
      },
      "execution_count": 8,
      "outputs": [
        {
          "output_type": "stream",
          "name": "stdout",
          "text": [
            "Grupo A: SEN (79.72) HOL (76.25) CAT (74.72) EQU (70.26) \n",
            "Grupo B: ING (89.21) EUA (77.46) IRA (74.77) GAL (71.58) \n",
            "Grupo C: MEX (88.70) POL (82.00) ARA (72.51) ARG (72.39) \n",
            "Grupo D: DIN (79.61) AUS (79.11) FRA (74.08) TUN (73.27) \n",
            "Grupo E: ALE (87.99) ESP (81.43) JAP (76.40) COS (72.71) \n",
            "Grupo F: BEL (98.48) CRO (79.39) CAN (75.00) MAR (71.35) \n",
            "Grupo G: SUI (87.24) BRA (76.42) SER (74.57) CAM (70.11) \n",
            "Grupo H: POR (82.50) URU (80.35) COR (78.18) GAN (73.80) \n"
          ]
        }
      ]
    },
    {
      "cell_type": "markdown",
      "source": [
        "## 4. Simulando as Oitavas de Final (16 melhores seleções)"
      ],
      "metadata": {
        "id": "rTeRjWX2STO4"
      }
    },
    {
      "cell_type": "code",
      "source": [
        "# Criando variáveis para as 2 melhores seleções de cada grupo:\n",
        "team1A = bestTeamsByGroup['A'][0]\n",
        "team2A = bestTeamsByGroup['A'][1]\n",
        "team1B = bestTeamsByGroup['B'][0]\n",
        "team2B = bestTeamsByGroup['B'][1]\n",
        "team1C = bestTeamsByGroup['C'][0]\n",
        "team2C = bestTeamsByGroup['C'][1]\n",
        "team1D = bestTeamsByGroup['D'][0]\n",
        "team2D = bestTeamsByGroup['D'][1]\n",
        "team1E = bestTeamsByGroup['E'][0]\n",
        "team2E = bestTeamsByGroup['E'][1]\n",
        "team1F = bestTeamsByGroup['F'][0]\n",
        "team2F = bestTeamsByGroup['F'][1]\n",
        "team1G = bestTeamsByGroup['G'][0]\n",
        "team2G = bestTeamsByGroup['G'][1]\n",
        "team1H = bestTeamsByGroup['H'][0]\n",
        "team2H = bestTeamsByGroup['H'][1]\n",
        "\n",
        "# TODO: Simular os confrontos das Oitavas de Final (randomizando novamente suas respectivas motivações).\n",
        "# Além disso, também definir os classificados para as quartas de final em novas vaiáveis:\n",
        "\n",
        "quarter1 = team1A if team1A.motivate() > team2B.motivate() else team2B\n",
        "quarter2 = team1C if team1C.motivate() > team2D.motivate() else team2D\n",
        "quarter3 = team1E if team1E.motivate() > team2F.motivate() else team2F\n",
        "quarter4 = team1G if team1G.motivate() > team2H.motivate() else team2H\n",
        "quarter5 = team1B if team1B.motivate() > team2A.motivate() else team2A\n",
        "quarter6 = team1D if team1D.motivate() > team2C.motivate() else team2C\n",
        "quarter7 = team1F if team1F.motivate() > team2E.motivate() else team2E\n",
        "quarter8 = team1H if team1H.motivate() > team2G.motivate() else team2G\n",
        "\n",
        "# TODO: Imprimir os \"resultados\" dos confrontos realizados nas Oitavas de Final:\n",
        "print(f'{team1A.name} ({team1A.lastMotivation:.2f}) x {team2B.name} ({team2B.lastMotivation:.2f})')\n",
        "print(f'{team1C.name} ({team1C.lastMotivation:.2f}) x {team2D.name} ({team2D.lastMotivation:.2f})')\n",
        "print(f'{team1E.name} ({team1E.lastMotivation:.2f}) x {team2F.name} ({team2F.lastMotivation:.2f})')\n",
        "print(f'{team1G.name} ({team1G.lastMotivation:.2f}) x {team2H.name} ({team2H.lastMotivation:.2f})')\n",
        "print(f'{team1B.name} ({team1B.lastMotivation:.2f}) x {team2A.name} ({team2A.lastMotivation:.2f})')\n",
        "print(f'{team1D.name} ({team1D.lastMotivation:.2f}) x {team2C.name} ({team2C.lastMotivation:.2f})')\n",
        "print(f'{team1F.name} ({team1F.lastMotivation:.2f}) x {team2E.name} ({team2E.lastMotivation:.2f})')\n",
        "print(f'{team1H.name} ({team1H.lastMotivation:.2f}) x {team2G.name} ({team2G.lastMotivation:.2f})')"
      ],
      "metadata": {
        "colab": {
          "base_uri": "https://localhost:8080/"
        },
        "id": "DYRF7uyXSTud",
        "outputId": "d643955f-38ee-4054-9c6a-21defa6a4ca1"
      },
      "execution_count": 9,
      "outputs": [
        {
          "output_type": "stream",
          "name": "stdout",
          "text": [
            "SEN (71.23) x EUA (75.86)\n",
            "MEX (78.59) x AUS (72.45)\n",
            "ALE (75.33) x CRO (73.59)\n",
            "SUI (82.48) x URU (70.44)\n",
            "ING (78.83) x HOL (88.74)\n",
            "DIN (71.99) x POL (80.29)\n",
            "BEL (83.25) x ESP (76.39)\n",
            "POR (73.96) x BRA (77.21)\n"
          ]
        }
      ]
    },
    {
      "cell_type": "markdown",
      "source": [
        "## 5. Simulando as Quartas de Final (8 melhores seleções)"
      ],
      "metadata": {
        "id": "VeS9G6qwU0ow"
      }
    },
    {
      "cell_type": "code",
      "source": [
        "# TODO: Simular os confrontos das Quartas de Final (randomizando novamente suas respectivas motivações).\n",
        "# Além disso, também definir os classificados para as semifinais em novas vaiáveis:\n",
        "semi1 = quarter1 if quarter1.motivate() > quarter2.motivate() else quarter2\n",
        "semi2 = quarter3 if quarter3.motivate() > quarter4.motivate() else quarter4\n",
        "semi3 = quarter5 if quarter5.motivate() > quarter6.motivate() else quarter6\n",
        "semi4 = quarter7 if quarter7.motivate() > quarter8.motivate() else quarter8\n",
        "\n",
        "# TODO: Imprimir os \"resultados\" dos confrontos realizados nas Quartas de Final:\n",
        "print(f'{quarter1.name} ({quarter1.lastMotivation:.2f}) x {quarter2.name} ({quarter2.lastMotivation:.2f})')\n",
        "print(f'{quarter3.name} ({quarter3.lastMotivation:.2f}) x {quarter4.name} ({quarter4.lastMotivation:.2f})')\n",
        "print(f'{quarter5.name} ({quarter5.lastMotivation:.2f}) x {quarter6.name} ({quarter6.lastMotivation:.2f})')\n",
        "print(f'{quarter7.name} ({quarter7.lastMotivation:.2f}) x {quarter8.name} ({quarter8.lastMotivation:.2f})')"
      ],
      "metadata": {
        "colab": {
          "base_uri": "https://localhost:8080/"
        },
        "id": "ELuaG6XYU5Qv",
        "outputId": "d5a1007c-2f63-4e4a-d662-6b0561778179"
      },
      "execution_count": 10,
      "outputs": [
        {
          "output_type": "stream",
          "name": "stdout",
          "text": [
            "EUA (84.24) x MEX (82.08)\n",
            "ALE (79.40) x SUI (85.42)\n",
            "HOL (73.95) x POL (72.76)\n",
            "BEL (94.36) x BRA (77.50)\n"
          ]
        }
      ]
    },
    {
      "cell_type": "markdown",
      "source": [
        "## 6. Simulando as Semifinais (4 melhores seleções)"
      ],
      "metadata": {
        "id": "FmSEJkECU6JZ"
      }
    },
    {
      "cell_type": "code",
      "source": [
        "# TODO: Simular os confrontos das Semifinais (randomizando novamente suas respectivas motivações).\n",
        "#       Além disso, também definir os classificados para a final e disputa de 3º e 4º em novas vaiáveis:\n",
        "final1 = semi1 if semi1.motivate() > semi2.motivate() else semi2\n",
        "terceiro1 = semi1 if semi1.lastMotivation < semi2.lastMotivation else semi2\n",
        "\n",
        "final2 = None\n",
        "terceiro2 = None\n",
        "if semi3.motivate() > semi4.motivate():\n",
        "  final2 = semi3\n",
        "  terceiro2 = semi4\n",
        "else:\n",
        "  final2 = semi4\n",
        "  terceiro2 = semi3\n",
        "\n",
        "# TODO: Imprimir os \"resultados\" dos confrontos realizados nas Semifinais:\n",
        "print(f'{semi1.name} ({semi1.lastMotivation:.2f}) x {semi2.name} ({semi2.lastMotivation:.2f})')\n",
        "print(f'{semi3.name} ({semi3.lastMotivation:.2f}) x {semi4.name} ({semi4.lastMotivation:.2f})')"
      ],
      "metadata": {
        "colab": {
          "base_uri": "https://localhost:8080/"
        },
        "id": "BUbxp13cVCJ8",
        "outputId": "2aae35df-52fd-472e-c85c-b02dd73c45a4"
      },
      "execution_count": 11,
      "outputs": [
        {
          "output_type": "stream",
          "name": "stdout",
          "text": [
            "EUA (82.02) x SUI (76.38)\n",
            "HOL (76.41) x BEL (71.28)\n"
          ]
        }
      ]
    },
    {
      "cell_type": "markdown",
      "source": [
        "## 7. Simulando a Final (2 melhores seleções)"
      ],
      "metadata": {
        "id": "hdtxVWH0VDHe"
      }
    },
    {
      "cell_type": "code",
      "source": [
        "# TODO: Simular os confrontos das Finais (randomizando novamente suas respectivas motivações).\n",
        "#       Além disso, também definir os 4 primeiros colocamos da Copa do Mundo de 2022:\n",
        "winner = final1 if final1.motivate() > final2.motivate() else final2\n",
        "second = final1 if final1.lastMotivation < final2.lastMotivation else final2\n",
        "third = terceiro1 if terceiro1.motivate() > terceiro2.motivate() else terceiro2\n",
        "fourth = terceiro1 if terceiro1.lastMotivation < terceiro2.lastMotivation else terceiro2\n",
        "\n",
        "# TODO: Imprimir os \"resultados\" dos confrontos realizados nas Finais:\n",
        "print(f'1º: {winner.name} ({winner.lastMotivation:.2f})')\n",
        "print(f'2º: {second.name} ({second.lastMotivation:.2f})')\n",
        "print(f'3º: {third.name} ({third.lastMotivation:.2f})')\n",
        "print(f'4º: {fourth.name} ({fourth.lastMotivation:.2f})')"
      ],
      "metadata": {
        "colab": {
          "base_uri": "https://localhost:8080/"
        },
        "id": "IM_Yd-HcYbx-",
        "outputId": "ad6fe7ab-6421-4e23-d0fb-188f1b7094c6"
      },
      "execution_count": 12,
      "outputs": [
        {
          "output_type": "stream",
          "name": "stdout",
          "text": [
            "1º: HOL (85.55)\n",
            "2º: EUA (71.14)\n",
            "3º: BEL (87.33)\n",
            "4º: SUI (78.98)\n"
          ]
        }
      ]
    }
  ]
}